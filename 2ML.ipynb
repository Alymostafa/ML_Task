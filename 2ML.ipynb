{
  "nbformat": 4,
  "nbformat_minor": 0,
  "metadata": {
    "colab": {
      "name": "2ML.ipynb",
      "provenance": [],
      "collapsed_sections": [],
      "include_colab_link": true
    },
    "kernelspec": {
      "name": "python3",
      "display_name": "Python 3"
    }
  },
  "cells": [
    {
      "cell_type": "markdown",
      "metadata": {
        "id": "view-in-github",
        "colab_type": "text"
      },
      "source": [
        "<a href=\"https://colab.research.google.com/github/OmarMohammed88/ML_Task/blob/master/2ML.ipynb\" target=\"_parent\"><img src=\"https://colab.research.google.com/assets/colab-badge.svg\" alt=\"Open In Colab\"/></a>"
      ]
    },
    {
      "cell_type": "code",
      "metadata": {
        "id": "m5PMH81s94Ho",
        "colab_type": "code",
        "colab": {}
      },
      "source": [
        "import pandas as pd\n",
        "from sklearn.feature_extraction.text import TfidfVectorizer\n",
        "from sklearn.metrics.pairwise import linear_kernel\n",
        "ds = pd.read_csv(\"jobs_data.csv\") #you can plug in your own list of products or movies or books here as csv file#\n",
        "tf = TfidfVectorizer(analyzer='word', ngram_range=(1, 3), min_df=0, stop_words='english')\n"
      ],
      "execution_count": 0,
      "outputs": []
    },
    {
      "cell_type": "code",
      "metadata": {
        "id": "dH_mNDOj_DCR",
        "colab_type": "code",
        "colab": {}
      },
      "source": [
        "tfidf_matrix = tf.fit_transform(ds['title'])\n",
        "cosine_similarities = linear_kernel(tfidf_matrix, tfidf_matrix)\n",
        "results = {} # dictionary created to store the result in a dictionary format (ID : (Score,item_id))#\n",
        "for idx, row in ds.iterrows():\n",
        "\n",
        "  similar_indices = cosine_similarities[idx].argsort()[:-5:-1] \n",
        "  similar_items = [(cosine_similarities[idx][i], ds['title'][i]) for i in similar_indices]\n",
        "  results[row['title']] = similar_items[1:] #iterates through all the rows"
      ],
      "execution_count": 0,
      "outputs": []
    },
    {
      "cell_type": "code",
      "metadata": {
        "id": "D-UNZnIX_Jtx",
        "colab_type": "code",
        "colab": {
          "base_uri": "https://localhost:8080/",
          "height": 89
        },
        "outputId": "4f262db4-9b83-4b2b-c941-dfce943c66e1"
      },
      "source": [
        "def item(title):\n",
        "    return ds.loc[ds['title'] == title]['industry'].tolist()[0]\n",
        "def recommend(title, num):\n",
        "    if (num == 0):\n",
        "        print(\"Unable to recommend any book as you have not chosen the number of book to be recommended\")\n",
        "    elif (num==1):\n",
        "        print(\"Recommending \" + str(num) + \" book similar to \" + item(title))\n",
        "        \n",
        "    else :\n",
        "        print(\"Recommending \" + str(num) + \" books similar to \" + item(title))\n",
        "        \n",
        "    print(\"----------------------------------------------------------\")\n",
        "    recs = results[title][:num]\n",
        "    for rec in recs:      \n",
        "      print(\"You may also like to read: \" + item(rec[1]) + \" (score:\" + str(rec[0]) + \")\")\n",
        "\n",
        "#the first argument in the below function to be passed is the id of the book, second argument is the number of books you want to be recommended#\n",
        "recommend('PHP Full-Stack - Joomla Expert',2)"
      ],
      "execution_count": 13,
      "outputs": [
        {
          "output_type": "stream",
          "text": [
            "Recommending 2 books similar to ['Information Technology Services']\n",
            "----------------------------------------------------------\n",
            "You may also like to read: ['Information Technology Services'] (score:1.0000000000000002)\n",
            "You may also like to read: ['Information Technology Services'] (score:1.0000000000000002)\n"
          ],
          "name": "stdout"
        }
      ]
    },
    {
      "cell_type": "code",
      "metadata": {
        "id": "4-s0gzu-BOjj",
        "colab_type": "code",
        "colab": {}
      },
      "source": [
        ""
      ],
      "execution_count": 0,
      "outputs": []
    }
  ]
}