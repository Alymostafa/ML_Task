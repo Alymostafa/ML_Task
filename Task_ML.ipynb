{
  "nbformat": 4,
  "nbformat_minor": 0,
  "metadata": {
    "colab": {
      "name": "Task_ML.ipynb",
      "provenance": [],
      "collapsed_sections": [],
      "include_colab_link": true
    },
    "kernelspec": {
      "name": "python3",
      "display_name": "Python 3"
    },
    "accelerator": "GPU"
  },
  "cells": [
    {
      "cell_type": "markdown",
      "metadata": {
        "id": "view-in-github",
        "colab_type": "text"
      },
      "source": [
        "<a href=\"https://colab.research.google.com/github/OmarMohammed88/ML_Task/blob/master/Task_ML.ipynb\" target=\"_parent\"><img src=\"https://colab.research.google.com/assets/colab-badge.svg\" alt=\"Open In Colab\"/></a>"
      ]
    },
    {
      "cell_type": "code",
      "metadata": {
        "id": "H4tfNVop_son",
        "colab_type": "code",
        "outputId": "372e2b67-6adf-40b0-dff8-e0a1d8165f34",
        "colab": {
          "base_uri": "https://localhost:8080/",
          "height": 215
        }
      },
      "source": [
        "import seaborn as sp \n",
        "import pandas as pd\n",
        "import numpy as np\n",
        "import matplotlib.pyplot as plt\n",
        "import nltk\n",
        "nltk.download('punkt')\n",
        "nltk.download('stopwords')\n",
        "nltk.download('wordnet')\n",
        "nltk.download('averaged_perceptron_tagger')"
      ],
      "execution_count": 0,
      "outputs": [
        {
          "output_type": "stream",
          "text": [
            "[nltk_data] Downloading package punkt to /root/nltk_data...\n",
            "[nltk_data]   Package punkt is already up-to-date!\n",
            "[nltk_data] Downloading package stopwords to /root/nltk_data...\n",
            "[nltk_data]   Package stopwords is already up-to-date!\n",
            "[nltk_data] Downloading package wordnet to /root/nltk_data...\n",
            "[nltk_data]   Package wordnet is already up-to-date!\n",
            "[nltk_data] Downloading package averaged_perceptron_tagger to\n",
            "[nltk_data]     /root/nltk_data...\n",
            "[nltk_data]   Package averaged_perceptron_tagger is already up-to-\n",
            "[nltk_data]       date!\n"
          ],
          "name": "stdout"
        },
        {
          "output_type": "execute_result",
          "data": {
            "text/plain": [
              "True"
            ]
          },
          "metadata": {
            "tags": []
          },
          "execution_count": 1
        }
      ]
    },
    {
      "cell_type": "code",
      "metadata": {
        "id": "MhhHUVDN_2iU",
        "colab_type": "code",
        "colab": {}
      },
      "source": [
        "data=pd.read_csv('jobs_data.csv')"
      ],
      "execution_count": 0,
      "outputs": []
    },
    {
      "cell_type": "markdown",
      "metadata": {
        "id": "RKwn_43EASQN",
        "colab_type": "text"
      },
      "source": [
        "Cleaning Data"
      ]
    },
    {
      "cell_type": "code",
      "metadata": {
        "id": "cxzunbDpALqQ",
        "colab_type": "code",
        "colab": {}
      },
      "source": [
        "from nltk.corpus import stopwords\n",
        "import re\n",
        "import string\n",
        "from nltk.stem import WordNetLemmatizer\n",
        "from nltk import word_tokenize\n",
        "from nltk.corpus import stopwords\n",
        "stop = stopwords.words('english')\n",
        "stop_words_ = set(stopwords.words('english'))\n",
        "wn = WordNetLemmatizer()\n",
        "\n",
        "def black_txt(token):\n",
        "    return  token not in stop_words_ and token not in list(string.punctuation)  and len(token)>2   \n",
        "  \n",
        "def clean_txt(text):\n",
        "  clean_text = []\n",
        "  clean_text2 = []\n",
        "  text = re.sub(\"'\", \"\",text)\n",
        "  text=re.sub(\"(\\\\d|\\\\W)+\",\" \",text) \n",
        "  text = text.replace(\"nbsp\", \"\")\n",
        "  clean_text = [ wn.lemmatize(word, pos=\"v\") for word in word_tokenize(text.lower()) if black_txt(word)]\n",
        "  clean_text2 = [word for word in clean_text if black_txt(word)]\n",
        "  return \" \".join(clean_text2)"
      ],
      "execution_count": 0,
      "outputs": []
    },
    {
      "cell_type": "markdown",
      "metadata": {
        "id": "GqFWAVecL-9c",
        "colab_type": "text"
      },
      "source": [
        "# Clean Text Data"
      ]
    },
    {
      "cell_type": "code",
      "metadata": {
        "id": "p_YEYthnHTVB",
        "colab_type": "code",
        "colab": {}
      },
      "source": [
        "data['industry'] = data['industry'].map(str).apply(clean_txt)\n",
        "data['title'] = data['title'].map(str).apply(clean_txt)\n",
        "data['jobFunction'] = data['jobFunction'].map(str).apply(clean_txt)\n",
        "\n"
      ],
      "execution_count": 0,
      "outputs": []
    },
    {
      "cell_type": "markdown",
      "metadata": {
        "id": "cER5ngahMumg",
        "colab_type": "text"
      },
      "source": [
        "# Vectorizing Columns"
      ]
    },
    {
      "cell_type": "code",
      "metadata": {
        "id": "sr-mCSS5HVpu",
        "colab_type": "code",
        "colab": {}
      },
      "source": [
        "from sklearn.feature_extraction.text import TfidfVectorizer\n",
        "\n",
        "tfidf_vectorizer = TfidfVectorizer()\n",
        "# Vect_title = tfidf_vectorizer.fit_transform((data['title'])) \n",
        "# Vect_industry=tfidf_vectorizer.fit_transform((data['industry']))\n",
        "# Vect_job_funct=tfidf_vectorizer.fit_transform((data['jobFunction']))"
      ],
      "execution_count": 0,
      "outputs": []
    },
    {
      "cell_type": "code",
      "metadata": {
        "id": "8GYpQ2-rQtB0",
        "colab_type": "code",
        "colab": {}
      },
      "source": [
        "from sklearn.feature_extraction.text import CountVectorizer\n",
        "count_vectorizer = CountVectorizer()\n",
        "\n"
      ],
      "execution_count": 0,
      "outputs": []
    },
    {
      "cell_type": "markdown",
      "metadata": {
        "id": "VDwwMHWQNwXo",
        "colab_type": "text"
      },
      "source": [
        "Applying Cosine Similarity"
      ]
    },
    {
      "cell_type": "code",
      "metadata": {
        "id": "UvMFKgGgOODt",
        "colab_type": "code",
        "colab": {}
      },
      "source": [
        "Merge_data=pd.DataFrame()\n"
      ],
      "execution_count": 0,
      "outputs": []
    },
    {
      "cell_type": "markdown",
      "metadata": {
        "id": "ujlMhZEHn3TT",
        "colab_type": "text"
      },
      "source": [
        "Vectorize All Text"
      ]
    },
    {
      "cell_type": "code",
      "metadata": {
        "id": "gX2bbqzOPUNf",
        "colab_type": "code",
        "colab": {}
      },
      "source": [
        "Merge_data['text']=data['industry']+data['jobFunction']+data['title']\n",
        "\n",
        "Vectorize_Merge = tfidf_vectorizer.fit_transform((Merge_data['text'])) \n",
        "# Count_Text = count_vectorizer.fit_transform((Merge_data['text']))"
      ],
      "execution_count": 0,
      "outputs": []
    },
    {
      "cell_type": "code",
      "metadata": {
        "id": "BN1lvQ4sdFlO",
        "colab_type": "code",
        "colab": {}
      },
      "source": [
        "\n",
        "\n",
        "user_q = data['title'].iloc[[1]]\n",
        "user_tfidf = tfidf_vectorizer.transform(user_q)\n"
      ],
      "execution_count": 0,
      "outputs": []
    },
    {
      "cell_type": "code",
      "metadata": {
        "id": "URL2--KKj7vX",
        "colab_type": "code",
        "colab": {}
      },
      "source": [
        "from sklearn.metrics.pairwise import cosine_similarity\n",
        "cos_similarity_countv = map(lambda x: cosine_similarity(user_tfidf, x),Vectorize_Merge)\n",
        "\n"
      ],
      "execution_count": 0,
      "outputs": []
    },
    {
      "cell_type": "code",
      "metadata": {
        "id": "WHn_fadFU4dm",
        "colab_type": "code",
        "colab": {}
      },
      "source": [
        "output2=list(cos_similarity_countv)"
      ],
      "execution_count": 0,
      "outputs": []
    },
    {
      "cell_type": "markdown",
      "metadata": {
        "id": "O0SFHf_Zqb-V",
        "colab_type": "text"
      },
      "source": [
        "Evaluating The Recomented"
      ]
    },
    {
      "cell_type": "code",
      "metadata": {
        "id": "5jU0GR5_uMyz",
        "colab_type": "code",
        "colab": {}
      },
      "source": [
        "def get_recommendation(top, df_all, scores):\n",
        "  recommendation = pd.DataFrame(columns = ['title', 'jobFunction', 'industry','score'])\n",
        "  count = 0\n",
        "  for i in top:\n",
        "      recommendation.at[count, 'title'] = u\n",
        "      recommendation.at[count, 'jobFunction'] = df_all['jobFunction'][i]\n",
        "      recommendation.at[count, 'industry'] = df_all['industry'][i]\n",
        "      recommendation.at[count, 'score'] =  scores[count]\n",
        "      count += 1\n",
        "  return recommendation"
      ],
      "execution_count": 0,
      "outputs": []
    },
    {
      "cell_type": "code",
      "metadata": {
        "id": "ltpYzo9TWRog",
        "colab_type": "code",
        "outputId": "175e035c-7f64-41e9-8bd7-8c58f36823b6",
        "colab": {
          "base_uri": "https://localhost:8080/",
          "height": 419
        }
      },
      "source": [
        "u=\"full stack php developer\"\n",
        "top = sorted(range(len(output2)), key=lambda i: output2[i], reverse=True)[:]\n",
        "list_scores = [output2[i][0][0] for i in top]\n",
        "get_recommendation(top, data, list_scores)"
      ],
      "execution_count": 0,
      "outputs": [
        {
          "output_type": "execute_result",
          "data": {
            "text/html": [
              "<div>\n",
              "<style scoped>\n",
              "    .dataframe tbody tr th:only-of-type {\n",
              "        vertical-align: middle;\n",
              "    }\n",
              "\n",
              "    .dataframe tbody tr th {\n",
              "        vertical-align: top;\n",
              "    }\n",
              "\n",
              "    .dataframe thead th {\n",
              "        text-align: right;\n",
              "    }\n",
              "</style>\n",
              "<table border=\"1\" class=\"dataframe\">\n",
              "  <thead>\n",
              "    <tr style=\"text-align: right;\">\n",
              "      <th></th>\n",
              "      <th>title</th>\n",
              "      <th>jobFunction</th>\n",
              "      <th>industry</th>\n",
              "      <th>score</th>\n",
              "    </tr>\n",
              "  </thead>\n",
              "  <tbody>\n",
              "    <tr>\n",
              "      <th>0</th>\n",
              "      <td>full stack php developer</td>\n",
              "      <td>software development engineer telecom technology</td>\n",
              "      <td>computer software</td>\n",
              "      <td>0.81476</td>\n",
              "    </tr>\n",
              "    <tr>\n",
              "      <th>1</th>\n",
              "      <td>full stack php developer</td>\n",
              "      <td>software development engineer telecom technology</td>\n",
              "      <td>computer software</td>\n",
              "      <td>0.81476</td>\n",
              "    </tr>\n",
              "    <tr>\n",
              "      <th>2</th>\n",
              "      <td>full stack php developer</td>\n",
              "      <td>engineer telecom technology software development</td>\n",
              "      <td>computer software</td>\n",
              "      <td>0.801467</td>\n",
              "    </tr>\n",
              "    <tr>\n",
              "      <th>3</th>\n",
              "      <td>full stack php developer</td>\n",
              "      <td>software development engineer telecom technology</td>\n",
              "      <td>information technology service computer software</td>\n",
              "      <td>0.779702</td>\n",
              "    </tr>\n",
              "    <tr>\n",
              "      <th>4</th>\n",
              "      <td>full stack php developer</td>\n",
              "      <td>software development engineer telecom technology</td>\n",
              "      <td>information technology service computer software</td>\n",
              "      <td>0.779702</td>\n",
              "    </tr>\n",
              "    <tr>\n",
              "      <th>...</th>\n",
              "      <td>...</td>\n",
              "      <td>...</td>\n",
              "      <td>...</td>\n",
              "      <td>...</td>\n",
              "    </tr>\n",
              "    <tr>\n",
              "      <th>10866</th>\n",
              "      <td>full stack php developer</td>\n",
              "      <td>medical healthcare hospitality hotels food ser...</td>\n",
              "      <td>hospitality hotels healthcare medical service</td>\n",
              "      <td>0</td>\n",
              "    </tr>\n",
              "    <tr>\n",
              "      <th>10867</th>\n",
              "      <td>full stack php developer</td>\n",
              "      <td>sales retail</td>\n",
              "      <td>market advertise furniture</td>\n",
              "      <td>0</td>\n",
              "    </tr>\n",
              "    <tr>\n",
              "      <th>10868</th>\n",
              "      <td>full stack php developer</td>\n",
              "      <td>market advertise media journalism publish</td>\n",
              "      <td>market advertise public relations communicatio...</td>\n",
              "      <td>0</td>\n",
              "    </tr>\n",
              "    <tr>\n",
              "      <th>10869</th>\n",
              "      <td>full stack php developer</td>\n",
              "      <td>business development sales retail customer ser...</td>\n",
              "      <td>real estate property management retail healthc...</td>\n",
              "      <td>0</td>\n",
              "    </tr>\n",
              "    <tr>\n",
              "      <th>10870</th>\n",
              "      <td>full stack php developer</td>\n",
              "      <td>installation maintenance repair engineer telec...</td>\n",
              "      <td>computer software education healthcare medical...</td>\n",
              "      <td>0</td>\n",
              "    </tr>\n",
              "  </tbody>\n",
              "</table>\n",
              "<p>10871 rows × 4 columns</p>\n",
              "</div>"
            ],
            "text/plain": [
              "                          title  ...     score\n",
              "0      full stack php developer  ...   0.81476\n",
              "1      full stack php developer  ...   0.81476\n",
              "2      full stack php developer  ...  0.801467\n",
              "3      full stack php developer  ...  0.779702\n",
              "4      full stack php developer  ...  0.779702\n",
              "...                         ...  ...       ...\n",
              "10866  full stack php developer  ...         0\n",
              "10867  full stack php developer  ...         0\n",
              "10868  full stack php developer  ...         0\n",
              "10869  full stack php developer  ...         0\n",
              "10870  full stack php developer  ...         0\n",
              "\n",
              "[10871 rows x 4 columns]"
            ]
          },
          "metadata": {
            "tags": []
          },
          "execution_count": 73
        }
      ]
    },
    {
      "cell_type": "markdown",
      "metadata": {
        "id": "Q8r8DqgkxykK",
        "colab_type": "text"
      },
      "source": [
        "# Using KNN APROEACH INSTEAD OF TIFID"
      ]
    },
    {
      "cell_type": "code",
      "metadata": {
        "id": "W7rKUrstvevB",
        "colab_type": "code",
        "colab": {}
      },
      "source": [
        "from sklearn.neighbors import NearestNeighbors\n",
        "n_neighbors = 10\n",
        "KNN = NearestNeighbors(n_neighbors, p=2)\n",
        "KNN.fit(Vectorize_Merge)\n",
        "NNs = KNN.kneighbors(user_tfidf, return_distance=True)"
      ],
      "execution_count": 0,
      "outputs": []
    },
    {
      "cell_type": "code",
      "metadata": {
        "id": "EdJA2KdSyeHA",
        "colab_type": "code",
        "outputId": "acfb916c-05f9-46a6-adff-efc3a9d20d99",
        "colab": {
          "base_uri": "https://localhost:8080/",
          "height": 53
        }
      },
      "source": [
        "NNs[0][0][1:]\n"
      ],
      "execution_count": 0,
      "outputs": [
        {
          "output_type": "execute_result",
          "data": {
            "text/plain": [
              "array([0.60867087, 0.63013154, 0.66377331, 0.66377331, 0.66377331,\n",
              "       0.66377331, 0.66377331, 0.66701193, 0.66701193])"
            ]
          },
          "metadata": {
            "tags": []
          },
          "execution_count": 75
        }
      ]
    },
    {
      "cell_type": "code",
      "metadata": {
        "id": "Xy_pEtzgytkX",
        "colab_type": "code",
        "outputId": "ec2277a4-4787-4d2a-c960-6c87fbfdabba",
        "colab": {
          "base_uri": "https://localhost:8080/",
          "height": 328
        }
      },
      "source": [
        "top = NNs[1][0][1:]\n",
        "index_score = NNs[0][0][1:]\n",
        "\n",
        "get_recommendation(top, data, index_score)"
      ],
      "execution_count": 0,
      "outputs": [
        {
          "output_type": "execute_result",
          "data": {
            "text/html": [
              "<div>\n",
              "<style scoped>\n",
              "    .dataframe tbody tr th:only-of-type {\n",
              "        vertical-align: middle;\n",
              "    }\n",
              "\n",
              "    .dataframe tbody tr th {\n",
              "        vertical-align: top;\n",
              "    }\n",
              "\n",
              "    .dataframe thead th {\n",
              "        text-align: right;\n",
              "    }\n",
              "</style>\n",
              "<table border=\"1\" class=\"dataframe\">\n",
              "  <thead>\n",
              "    <tr style=\"text-align: right;\">\n",
              "      <th></th>\n",
              "      <th>title</th>\n",
              "      <th>jobFunction</th>\n",
              "      <th>industry</th>\n",
              "      <th>score</th>\n",
              "    </tr>\n",
              "  </thead>\n",
              "  <tbody>\n",
              "    <tr>\n",
              "      <th>0</th>\n",
              "      <td>full stack php developer</td>\n",
              "      <td>software development engineer telecom technology</td>\n",
              "      <td>computer software</td>\n",
              "      <td>0.608671</td>\n",
              "    </tr>\n",
              "    <tr>\n",
              "      <th>1</th>\n",
              "      <td>full stack php developer</td>\n",
              "      <td>engineer telecom technology software development</td>\n",
              "      <td>computer software</td>\n",
              "      <td>0.630132</td>\n",
              "    </tr>\n",
              "    <tr>\n",
              "      <th>2</th>\n",
              "      <td>full stack php developer</td>\n",
              "      <td>software development engineer telecom technology</td>\n",
              "      <td>information technology service computer software</td>\n",
              "      <td>0.663773</td>\n",
              "    </tr>\n",
              "    <tr>\n",
              "      <th>3</th>\n",
              "      <td>full stack php developer</td>\n",
              "      <td>software development engineer telecom technology</td>\n",
              "      <td>information technology service computer software</td>\n",
              "      <td>0.663773</td>\n",
              "    </tr>\n",
              "    <tr>\n",
              "      <th>4</th>\n",
              "      <td>full stack php developer</td>\n",
              "      <td>software development engineer telecom technology</td>\n",
              "      <td>information technology service computer software</td>\n",
              "      <td>0.663773</td>\n",
              "    </tr>\n",
              "    <tr>\n",
              "      <th>5</th>\n",
              "      <td>full stack php developer</td>\n",
              "      <td>software development engineer telecom technology</td>\n",
              "      <td>information technology service computer software</td>\n",
              "      <td>0.663773</td>\n",
              "    </tr>\n",
              "    <tr>\n",
              "      <th>6</th>\n",
              "      <td>full stack php developer</td>\n",
              "      <td>software development engineer telecom technology</td>\n",
              "      <td>information technology service computer software</td>\n",
              "      <td>0.663773</td>\n",
              "    </tr>\n",
              "    <tr>\n",
              "      <th>7</th>\n",
              "      <td>full stack php developer</td>\n",
              "      <td>software development engineer telecom technology</td>\n",
              "      <td>computer software information technology service</td>\n",
              "      <td>0.667012</td>\n",
              "    </tr>\n",
              "    <tr>\n",
              "      <th>8</th>\n",
              "      <td>full stack php developer</td>\n",
              "      <td>software development engineer telecom technology</td>\n",
              "      <td>computer software information technology service</td>\n",
              "      <td>0.667012</td>\n",
              "    </tr>\n",
              "  </tbody>\n",
              "</table>\n",
              "</div>"
            ],
            "text/plain": [
              "                      title  ...     score\n",
              "0  full stack php developer  ...  0.608671\n",
              "1  full stack php developer  ...  0.630132\n",
              "2  full stack php developer  ...  0.663773\n",
              "3  full stack php developer  ...  0.663773\n",
              "4  full stack php developer  ...  0.663773\n",
              "5  full stack php developer  ...  0.663773\n",
              "6  full stack php developer  ...  0.663773\n",
              "7  full stack php developer  ...  0.667012\n",
              "8  full stack php developer  ...  0.667012\n",
              "\n",
              "[9 rows x 4 columns]"
            ]
          },
          "metadata": {
            "tags": []
          },
          "execution_count": 76
        }
      ]
    },
    {
      "cell_type": "code",
      "metadata": {
        "id": "agJOZMNeJSFM",
        "colab_type": "code",
        "colab": {}
      },
      "source": [
        ""
      ],
      "execution_count": 0,
      "outputs": []
    }
  ]
}